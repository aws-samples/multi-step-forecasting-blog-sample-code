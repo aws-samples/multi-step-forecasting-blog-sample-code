{
 "cells": [
  {
   "cell_type": "code",
   "execution_count": null,
   "id": "a315f819",
   "metadata": {},
   "outputs": [],
   "source": [
    "!wget https://raw.githubusercontent.com/mlzoo/multi-step-regression-tutorials/main/Raotbl6.csv"
   ]
  },
  {
   "cell_type": "code",
   "execution_count": null,
   "id": "68cf3d4c",
   "metadata": {},
   "outputs": [],
   "source": [
    "import pandas as pd\n",
    "import numpy as np\n",
    "import lightgbm as lgb\n",
    "from sklearn.metrics import mean_squared_error\n",
    "from sklearn.multioutput import MultiOutputRegressor\n",
    "\n",
    "df = pd.read_csv('Raotbl6.csv')\n",
    "df['date'] = pd.to_datetime(df['date'])\n",
    "df.index = df['date']\n",
    "df.drop('date', axis=1, inplace=True)"
   ]
  },
  {
   "cell_type": "code",
   "execution_count": null,
   "id": "7304873d",
   "metadata": {},
   "outputs": [],
   "source": [
    "target = 'rgnp'\n",
    "\n",
    "X_train = df[: int(len(df) * 0.8)].iloc[:-1]\n",
    "y_train = df[: int(len(df) * 0.8)].shift(-1).dropna()\n",
    "\n",
    "X_test = df[int(len(df) * 0.8) :].iloc[:-1]\n",
    "y_test = df[int(len(df) * 0.8) :].shift(-1).dropna()\n",
    "\n",
    "model = MultiOutputRegressor(lgb.LGBMRegressor(objective='regression')).fit(X_train, y_train)"
   ]
  },
  {
   "cell_type": "code",
   "execution_count": null,
   "id": "82e08404",
   "metadata": {},
   "outputs": [],
   "source": [
    "results = []\n",
    "data = X_test\n",
    "for i in range(12):\n",
    "    data = pd.DataFrame(model.predict(data), columns=data.columns, index=data.index)\n",
    "    results.append(data)\n"
   ]
  },
  {
   "cell_type": "code",
   "execution_count": null,
   "id": "c815b735",
   "metadata": {},
   "outputs": [],
   "source": [
    "pred = pd.DataFrame()\n",
    "for i in range(12):\n",
    "    pred['rgnp_{}'.format(i)] = results[i]['rgnp']"
   ]
  },
  {
   "cell_type": "code",
   "execution_count": null,
   "id": "c21a1891",
   "metadata": {},
   "outputs": [],
   "source": [
    "# make future targets\n",
    "for i in range(12):\n",
    "    df['rgnp_{}'.format(i)] = df['rgnp'].shift(-i)\n",
    "\n",
    "df.dropna(inplace=True)\n",
    "\n",
    "targets = [item for item in df.columns if 'rgnp_' in item]\n",
    "\n",
    "X_train = df.drop(targets, axis=1)[: int(len(df) * 0.8)]\n",
    "y_train = df[targets][: int(len(df) * 0.8)]\n",
    "\n",
    "X_test = df.drop(targets, axis=1)[int(len(df) * 0.8) :]\n",
    "y_test = df[targets][int(len(df) * 0.8) :]\n",
    "(y_test - pred).abs().mean()"
   ]
  }
 ],
 "metadata": {
  "kernelspec": {
   "display_name": "conda_pytorch_p38",
   "language": "python",
   "name": "conda_pytorch_p38"
  },
  "language_info": {
   "codemirror_mode": {
    "name": "ipython",
    "version": 3
   },
   "file_extension": ".py",
   "mimetype": "text/x-python",
   "name": "python",
   "nbconvert_exporter": "python",
   "pygments_lexer": "ipython3",
   "version": "3.8.12"
  }
 },
 "nbformat": 4,
 "nbformat_minor": 5
}
